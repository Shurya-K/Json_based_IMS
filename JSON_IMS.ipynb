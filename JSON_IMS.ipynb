{
  "nbformat": 4,
  "nbformat_minor": 0,
  "metadata": {
    "colab": {
      "name": "JSON_IMS.ipynb",
      "provenance": []
    },
    "kernelspec": {
      "name": "python3",
      "display_name": "Python 3"
    },
    "language_info": {
      "name": "python"
    }
  },
  "cells": [
    {
      "cell_type": "code",
      "metadata": {
        "id": "gvdF4jBDueSW"
      },
      "source": [
        "dic=dic = {\"1\": {\"name\": \"Goodday\", \"price\": 20.0, \"quantity\": 50, \"category\": \"Biscuits\", \"discount\": 3},\n",
        " \"2\": {\"name\": \"Bourborn\", \"price\": 30.0, \"quantity\": 50, \"category\": \"Biscuits\", \"discount\": 4},\n",
        " \"3\": {\"name\": \"Hide&Seek\", \"price\": 40.0, \"quantity\": 50, \"category\": \"Biscuits\", \"discount\": 2},\n",
        " \"4\": {\"name\": \"Milkbikis\", \"price\": 20.0, \"quantity\": 50, \"category\": \"Biscuits\", \"discount\": 3},\n",
        " \"5\": {\"name\": \"Oreo\", \"price\": 50.0, \"quantity\": 50, \"category\": \"Biscuits\", \"discount\": 6},\n",
        " \"6\": {\"name\": \"Kit kat\", \"price\": 100.0, \"quantity\": 150, \"category\": \"Chocolate\", \"discount\": 8},\n",
        " \"7\": {\"name\": \"5 star\", \"price\": 55.0, \"quantity\": 150, \"category\": \"Chocolate\", \"discount\": 13},\n",
        " \"8\": {\"name\": \"Dairy milk\", \"price\": 150.0, \"quantity\": 150, \"category\": \"Chocolate\", \"discount\": 7},\n",
        " \"9\": {\"name\": \"Milky bar\", \"price\": 75.0, \"quantity\": 150, \"category\": \"Chocolate\", \"discount\": 11},\n",
        " \"10\": {\"name\": \"Munch\", \"price\": 45.0, \"quantity\": 150, \"category\": \"Noodles\", \"discount\": 5},\n",
        " \"11\": {\"name\": \"Maggie\", \"price\": 72.0, \"quantity\": 75, \"category\": \"Noodles\", \"discount\": 4},\n",
        " \"12\": {\"name\": \"Yippee\", \"price\": 78.0, \"quantity\": 75, \"category\": \"Noodles\", \"discount\": 10}, \n",
        "\"13\": {\"name\": \"Top ramen\", \"price\": 49.0, \"quantity\": 75, \"category\": \"Noodles\", \"discount\": 3}, \n",
        "\"14\": {\"name\": \"Patanjali noodles\", \"price\": 129.0, \"quantity\": 75, \"category\": \"Noodles\", \"discount\": 12},\n",
        " \"15\": {\"name\": \"Hakka Noodles\", \"price\": 229.0, \"quantity\": 75, \"category\": \"Noodles\", \"discount\": 6},\n",
        " \"16\": {\"name\": \"Pani puri\", \"price\": 39.0, \"quantity\": 25, \"category\": \"Chat\", \"discount\": 2},\n",
        " \"17\": {\"name\": \"Kachori\", \"price\": 29.0, \"quantity\": 25, \"category\": \"Chat\", \"discount\": 3}, \n",
        "\"18\": {\"name\": \"Samosa\", \"price\": 15.0, \"quantity\": 25, \"category\": \"Chat\", \"discount\":1}, \n",
        "\"19\": {\"name\": \"Vada pav\", \"price\": 25.0, \"quantity\": 25, \"category\": \"Chat\", \"discount\": 4},\n",
        " \"20\": {\"name\": \"Pav bhaji\", \"price\": 100.0, \"quantity\": 25, \"category\": \"Chat\", \"discount\": 15},\n",
        " \"21\": {\"name\": \"Pen\", \"price\": 20.0, \"quantity\": 250, \"category\": \"Stationary\", \"discount\": 2},\n",
        " \"22\": {\"name\": \"Pencil\", \"price\": 5.0, \"quantity\": 250, \"category\": \"Stationary\", \"discount\": 0},\n",
        " \"23\": {\"name\": \"Scale\", \"price\": 10.0, \"quantity\": 250, \"category\": \"Stationary\", \"discount\": 0}, \n",
        "\"24\": {\"name\": \"Eraser\", \"price\": 3.0, \"quantity\": 250, \"category\": \"Stationary\", \"discount\": 0 },\n",
        " \"25\": {\"name\": \"Note book\", \"price\": 75.0, \"quantity\": 150, \"category\": \"Stationary\", \"discount\": 10},\n",
        " \"26\": {\"name\": \"Temper glass\", \"price\": 100.0, \"quantity\": 55, \"category\": \"Accessories\", \"discount\": 8},\n",
        " \"27\": {\"name\": \"Scratch guard\", \"price\": 150.0, \"quantity\": 55, \"category\": \"Accessories\", \"discount\": 9},\n",
        " \"28\": {\"name\": \"Ejector pin\", \"price\": 230.0, \"quantity\": 55, \"category\": \"Accessories\", \"discount\": 22},\n",
        " \"29\": {\"name\": \"Ear phone\", \"price\": 500.0, \"quantity\": 125, \"category\": \"Accessories\", \"discount\": 57},\n",
        " \"30\": {\"name\": \"Mobile case\", \"price\": 225.0, \"quantity\": 25, \"category\": \"Accessories\", \"discount\": 9}}"
      ],
      "execution_count": 1,
      "outputs": []
    },
    {
      "cell_type": "code",
      "metadata": {
        "id": "02mfTg7QuzZF"
      },
      "source": [
        "import sys,json\n",
        "\n",
        "fd = open(\"dict_invt.json\",'r')\n",
        "\n",
        "t = fd.read()\n",
        "\n",
        "fd.close()"
      ],
      "execution_count": 2,
      "outputs": []
    },
    {
      "cell_type": "markdown",
      "metadata": {
        "id": "7ri8TvQlu573"
      },
      "source": [
        "###Purchasing Items for SS SuperStore"
      ]
    },
    {
      "cell_type": "code",
      "metadata": {
        "colab": {
          "base_uri": "https://localhost:8080/"
        },
        "id": "nfzKhB97vB5m",
        "outputId": "0cb63bfc-c699-4c03-8321-59bb4a2e1c69"
      },
      "source": [
        "prod_id = str(input(\"Enter product id:\"))\n",
        "name = str(input(\"Enter name:\"))\n",
        "price = float(input(\"Enter price:\"))\n",
        "quantity = int(input(\"Enter quantity:\"))\n",
        "category=str(input(\"Enter the Category:\"))\n",
        "discount=int(input(\"Enter the discount:\"))\n",
        "\n",
        "dic[prod_id] = {'name': name, 'price': price,'quantity': quantity,\"category\":category,\"discount\":discount}\n",
        "\n",
        "js = json.dumps(dic)\n",
        "\n",
        "fd = open(\"dict_invt.json\",'w')\n",
        "fd.write(js)\n",
        "fd.close()"
      ],
      "execution_count": 3,
      "outputs": [
        {
          "name": "stdout",
          "output_type": "stream",
          "text": [
            "Enter product id:31\n",
            "Enter name:Aloo Tikki\n",
            "Enter price:100.0\n",
            "Enter quantity:50\n",
            "Enter the Category:10\n",
            "Enter the discount:10\n"
          ]
        }
      ]
    },
    {
      "cell_type": "code",
      "metadata": {
        "colab": {
          "base_uri": "https://localhost:8080/"
        },
        "id": "W99Xq-D6vSsM",
        "outputId": "cfc32bbb-15da-4bd7-d9cb-930c4ed3d03c"
      },
      "source": [
        "print('''\n",
        "-------------------------\n",
        "Welcome to SS SuperStore\n",
        "-------------------------\n",
        "''')\n",
        "\n",
        "print(\"Items available in our store\")\n",
        "print(js)"
      ],
      "execution_count": 4,
      "outputs": [
        {
          "output_type": "stream",
          "name": "stdout",
          "text": [
            "\n",
            "-------------------------\n",
            "Welcome to SS SuperStore\n",
            "-------------------------\n",
            "\n",
            "Items available in our store\n",
            "{\"1\": {\"name\": \"Goodday\", \"price\": 20.0, \"quantity\": 50, \"category\": \"Biscuits\", \"discount\": 3}, \"2\": {\"name\": \"Bourborn\", \"price\": 30.0, \"quantity\": 50, \"category\": \"Biscuits\", \"discount\": 4}, \"3\": {\"name\": \"Hide&Seek\", \"price\": 40.0, \"quantity\": 50, \"category\": \"Biscuits\", \"discount\": 2}, \"4\": {\"name\": \"Milkbikis\", \"price\": 20.0, \"quantity\": 50, \"category\": \"Biscuits\", \"discount\": 3}, \"5\": {\"name\": \"Oreo\", \"price\": 50.0, \"quantity\": 50, \"category\": \"Biscuits\", \"discount\": 6}, \"6\": {\"name\": \"Kit kat\", \"price\": 100.0, \"quantity\": 150, \"category\": \"Chocolate\", \"discount\": 8}, \"7\": {\"name\": \"5 star\", \"price\": 55.0, \"quantity\": 150, \"category\": \"Chocolate\", \"discount\": 13}, \"8\": {\"name\": \"Dairy milk\", \"price\": 150.0, \"quantity\": 150, \"category\": \"Chocolate\", \"discount\": 7}, \"9\": {\"name\": \"Milky bar\", \"price\": 75.0, \"quantity\": 150, \"category\": \"Chocolate\", \"discount\": 11}, \"10\": {\"name\": \"Munch\", \"price\": 45.0, \"quantity\": 150, \"category\": \"Noodles\", \"discount\": 5}, \"11\": {\"name\": \"Maggie\", \"price\": 72.0, \"quantity\": 75, \"category\": \"Noodles\", \"discount\": 4}, \"12\": {\"name\": \"Yippee\", \"price\": 78.0, \"quantity\": 75, \"category\": \"Noodles\", \"discount\": 10}, \"13\": {\"name\": \"Top ramen\", \"price\": 49.0, \"quantity\": 75, \"category\": \"Noodles\", \"discount\": 3}, \"14\": {\"name\": \"Patanjali noodles\", \"price\": 129.0, \"quantity\": 75, \"category\": \"Noodles\", \"discount\": 12}, \"15\": {\"name\": \"Hakka Noodles\", \"price\": 229.0, \"quantity\": 75, \"category\": \"Noodles\", \"discount\": 6}, \"16\": {\"name\": \"Pani puri\", \"price\": 39.0, \"quantity\": 25, \"category\": \"Chat\", \"discount\": 2}, \"17\": {\"name\": \"Kachori\", \"price\": 29.0, \"quantity\": 25, \"category\": \"Chat\", \"discount\": 3}, \"18\": {\"name\": \"Samosa\", \"price\": 15.0, \"quantity\": 25, \"category\": \"Chat\", \"discount\": 1}, \"19\": {\"name\": \"Vada pav\", \"price\": 25.0, \"quantity\": 25, \"category\": \"Chat\", \"discount\": 4}, \"20\": {\"name\": \"Pav bhaji\", \"price\": 100.0, \"quantity\": 25, \"category\": \"Chat\", \"discount\": 15}, \"21\": {\"name\": \"Pen\", \"price\": 20.0, \"quantity\": 250, \"category\": \"Stationary\", \"discount\": 2}, \"22\": {\"name\": \"Pencil\", \"price\": 5.0, \"quantity\": 250, \"category\": \"Stationary\", \"discount\": 0}, \"23\": {\"name\": \"Scale\", \"price\": 10.0, \"quantity\": 250, \"category\": \"Stationary\", \"discount\": 0}, \"24\": {\"name\": \"Eraser\", \"price\": 3.0, \"quantity\": 250, \"category\": \"Stationary\", \"discount\": 0}, \"25\": {\"name\": \"Note book\", \"price\": 75.0, \"quantity\": 150, \"category\": \"Stationary\", \"discount\": 10}, \"26\": {\"name\": \"Temper glass\", \"price\": 100.0, \"quantity\": 55, \"category\": \"Accessories\", \"discount\": 8}, \"27\": {\"name\": \"Scratch guard\", \"price\": 150.0, \"quantity\": 55, \"category\": \"Accessories\", \"discount\": 9}, \"28\": {\"name\": \"Ejector pin\", \"price\": 230.0, \"quantity\": 55, \"category\": \"Accessories\", \"discount\": 22}, \"29\": {\"name\": \"Ear phone\", \"price\": 500.0, \"quantity\": 125, \"category\": \"Accessories\", \"discount\": 57}, \"30\": {\"name\": \"Mobile case\", \"price\": 225.0, \"quantity\": 25, \"category\": \"Accessories\", \"discount\": 9}, \"31\": {\"name\": \"Aloo Tikki\", \"price\": 100.0, \"quantity\": 50, \"category\": \"10\", \"discount\": 10}}\n"
          ]
        }
      ]
    },
    {
      "cell_type": "markdown",
      "metadata": {
        "id": "MrJ06txnvdeC"
      },
      "source": [
        "###Buying Products from SS SuperStore"
      ]
    },
    {
      "cell_type": "code",
      "metadata": {
        "colab": {
          "base_uri": "https://localhost:8080/"
        },
        "id": "oR4Vupd0vmuP",
        "outputId": "61a94896-2bac-487b-cb49-94524ca87c73"
      },
      "source": [
        "print('----------------------------------')\n",
        "print(\"items available in SS SuperStore\")\n",
        "print('----------------------------------')\n",
        "q=int(input(\"How many items do you like to purchase\"))\n",
        "print('Please enter the items and quantity key which you would like to purchase:')\n",
        "pur={}\n",
        "for i in range (0,q):\n",
        "    n=input()\n",
        "    m=n.split(' ')\n",
        "    pur[m[0]] = int(m[1])"
      ],
      "execution_count": 5,
      "outputs": [
        {
          "name": "stdout",
          "output_type": "stream",
          "text": [
            "----------------------------------\n",
            "items available in SS SuperStore\n",
            "----------------------------------\n",
            "How many items do you like to purchase5\n",
            "Please enter the items and quantity key which you would like to purchase:\n",
            "2 3\n",
            "4 6\n",
            "6 8\n",
            "31 4\n",
            "22 6\n"
          ]
        }
      ]
    },
    {
      "cell_type": "markdown",
      "metadata": {
        "id": "4oVNgWuTwD1l"
      },
      "source": [
        "### Printing the Receipt"
      ]
    },
    {
      "cell_type": "code",
      "metadata": {
        "colab": {
          "base_uri": "https://localhost:8080/"
        },
        "id": "7FCTa5y1vxdQ",
        "outputId": "98e6508b-ed23-4458-c9af-c13ab7a3c00c"
      },
      "source": [
        "print(\"-------Receipt-------\")\n",
        "\n",
        "amt=0\n",
        "for i in pur:\n",
        "  if(i in dic.keys()):\n",
        "    print('you ordered {} {}'.format(pur[i],dic[i]['name']))\n",
        "    print('Cost {} '.format(pur[i]*dic[i]['price']))\n",
        "    amt+=pur[i]*dic[i]['price']\n",
        "print('Total bill : ',amt)\n",
        "print('Thank you for shopping with us')\n",
        "\n",
        "total={}\n",
        "s=1\n",
        "for i in pur:\n",
        "  if(i in dic.keys()):\n",
        "    sne={}\n",
        "    sne['item'] = dic[i]['name']\n",
        "    sne['quantity'] = pur[i]\n",
        "    sne['price'] = dic[i]['price']\n",
        "    sne['SP'] = dic[i]['price']*(1.0 - dic[i]['discount']/100.0)\n",
        "    sne['total'] = sne['SP']*pur[i]\n",
        "    total[s] = sne\n",
        "    s+=1\n"
      ],
      "execution_count": 6,
      "outputs": [
        {
          "output_type": "stream",
          "name": "stdout",
          "text": [
            "-------Receipt-------\n",
            "you ordered 3 Bourborn\n",
            "Cost 90.0 \n",
            "you ordered 6 Milkbikis\n",
            "Cost 120.0 \n",
            "you ordered 8 Kit kat\n",
            "Cost 800.0 \n",
            "you ordered 4 Aloo Tikki\n",
            "Cost 400.0 \n",
            "you ordered 6 Pencil\n",
            "Cost 30.0 \n",
            "Total bill :  1440.0\n",
            "Thank you for shopping with us\n"
          ]
        }
      ]
    },
    {
      "cell_type": "code",
      "metadata": {
        "colab": {
          "base_uri": "https://localhost:8080/"
        },
        "id": "IdY3c3fKv3M7",
        "outputId": "9c366991-4828-4cc7-de3c-d36fa4f1e261"
      },
      "source": [
        "print(total)"
      ],
      "execution_count": 7,
      "outputs": [
        {
          "output_type": "stream",
          "name": "stdout",
          "text": [
            "{1: {'item': 'Bourborn', 'quantity': 3, 'price': 30.0, 'SP': 28.799999999999997, 'total': 86.39999999999999}, 2: {'item': 'Milkbikis', 'quantity': 6, 'price': 20.0, 'SP': 19.4, 'total': 116.39999999999999}, 3: {'item': 'Kit kat', 'quantity': 8, 'price': 100.0, 'SP': 92.0, 'total': 736.0}, 4: {'item': 'Aloo Tikki', 'quantity': 4, 'price': 100.0, 'SP': 90.0, 'total': 360.0}, 5: {'item': 'Pencil', 'quantity': 6, 'price': 5.0, 'SP': 5.0, 'total': 30.0}}\n"
          ]
        }
      ]
    },
    {
      "cell_type": "code",
      "metadata": {
        "id": "p2lwZvngv9VL"
      },
      "source": [
        "js = json.dumps(total)\n",
        "\n",
        "fd = open(\"sales.json\",'w')\n",
        "\n",
        "fd.write(js)\n",
        "\n",
        "fd.close()"
      ],
      "execution_count": 8,
      "outputs": []
    },
    {
      "cell_type": "code",
      "metadata": {
        "colab": {
          "base_uri": "https://localhost:8080/",
          "height": 86
        },
        "id": "jE8pdsl2v_Rh",
        "outputId": "d2c4596c-6adf-411e-b09a-71060353f349"
      },
      "source": [
        "js"
      ],
      "execution_count": 9,
      "outputs": [
        {
          "output_type": "execute_result",
          "data": {
            "application/vnd.google.colaboratory.intrinsic+json": {
              "type": "string"
            },
            "text/plain": [
              "'{\"1\": {\"item\": \"Bourborn\", \"quantity\": 3, \"price\": 30.0, \"SP\": 28.799999999999997, \"total\": 86.39999999999999}, \"2\": {\"item\": \"Milkbikis\", \"quantity\": 6, \"price\": 20.0, \"SP\": 19.4, \"total\": 116.39999999999999}, \"3\": {\"item\": \"Kit kat\", \"quantity\": 8, \"price\": 100.0, \"SP\": 92.0, \"total\": 736.0}, \"4\": {\"item\": \"Aloo Tikki\", \"quantity\": 4, \"price\": 100.0, \"SP\": 90.0, \"total\": 360.0}, \"5\": {\"item\": \"Pencil\", \"quantity\": 6, \"price\": 5.0, \"SP\": 5.0, \"total\": 30.0}}'"
            ]
          },
          "metadata": {},
          "execution_count": 9
        }
      ]
    }
  ]
}